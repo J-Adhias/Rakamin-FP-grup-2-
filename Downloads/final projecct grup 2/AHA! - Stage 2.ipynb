{
 "cells": [
  {
   "cell_type": "code",
   "execution_count": 1,
   "id": "7a3f14ea-ac7e-4fc8-993d-ae9918eb3e33",
   "metadata": {},
   "outputs": [],
   "source": [
    "import numpy as np\n",
    "import pandas as pd\n",
    "import matplotlib.pyplot as plt\n",
    "import seaborn as sns"
   ]
  },
  {
   "cell_type": "code",
   "execution_count": 2,
   "id": "94228861-dd7b-413f-bb80-ea7ba02b10f7",
   "metadata": {},
   "outputs": [],
   "source": [
    "df = pd.read_csv('marketing_campaign.csv', sep = ';')"
   ]
  },
  {
   "cell_type": "code",
   "execution_count": 3,
   "id": "f50c1727-cea8-40c3-9d63-6d2d59ec2082",
   "metadata": {},
   "outputs": [
    {
     "data": {
      "text/html": [
       "<div>\n",
       "<style scoped>\n",
       "    .dataframe tbody tr th:only-of-type {\n",
       "        vertical-align: middle;\n",
       "    }\n",
       "\n",
       "    .dataframe tbody tr th {\n",
       "        vertical-align: top;\n",
       "    }\n",
       "\n",
       "    .dataframe thead th {\n",
       "        text-align: right;\n",
       "    }\n",
       "</style>\n",
       "<table border=\"1\" class=\"dataframe\">\n",
       "  <thead>\n",
       "    <tr style=\"text-align: right;\">\n",
       "      <th></th>\n",
       "      <th>ID</th>\n",
       "      <th>Year_Birth</th>\n",
       "      <th>Income</th>\n",
       "      <th>Kidhome</th>\n",
       "      <th>Teenhome</th>\n",
       "      <th>Recency</th>\n",
       "      <th>MntWines</th>\n",
       "      <th>MntFruits</th>\n",
       "      <th>MntMeatProducts</th>\n",
       "      <th>MntFishProducts</th>\n",
       "      <th>...</th>\n",
       "      <th>NumWebVisitsMonth</th>\n",
       "      <th>AcceptedCmp3</th>\n",
       "      <th>AcceptedCmp4</th>\n",
       "      <th>AcceptedCmp5</th>\n",
       "      <th>AcceptedCmp1</th>\n",
       "      <th>AcceptedCmp2</th>\n",
       "      <th>Complain</th>\n",
       "      <th>Z_CostContact</th>\n",
       "      <th>Z_Revenue</th>\n",
       "      <th>Response</th>\n",
       "    </tr>\n",
       "  </thead>\n",
       "  <tbody>\n",
       "    <tr>\n",
       "      <th>count</th>\n",
       "      <td>2240.000000</td>\n",
       "      <td>2240.000000</td>\n",
       "      <td>2216.000000</td>\n",
       "      <td>2240.000000</td>\n",
       "      <td>2240.000000</td>\n",
       "      <td>2240.000000</td>\n",
       "      <td>2240.000000</td>\n",
       "      <td>2240.000000</td>\n",
       "      <td>2240.000000</td>\n",
       "      <td>2240.000000</td>\n",
       "      <td>...</td>\n",
       "      <td>2240.000000</td>\n",
       "      <td>2240.000000</td>\n",
       "      <td>2240.000000</td>\n",
       "      <td>2240.000000</td>\n",
       "      <td>2240.000000</td>\n",
       "      <td>2240.000000</td>\n",
       "      <td>2240.000000</td>\n",
       "      <td>2240.0</td>\n",
       "      <td>2240.0</td>\n",
       "      <td>2240.000000</td>\n",
       "    </tr>\n",
       "    <tr>\n",
       "      <th>mean</th>\n",
       "      <td>5592.159821</td>\n",
       "      <td>1968.805804</td>\n",
       "      <td>52247.251354</td>\n",
       "      <td>0.444196</td>\n",
       "      <td>0.506250</td>\n",
       "      <td>49.109375</td>\n",
       "      <td>303.935714</td>\n",
       "      <td>26.302232</td>\n",
       "      <td>166.950000</td>\n",
       "      <td>37.525446</td>\n",
       "      <td>...</td>\n",
       "      <td>5.316518</td>\n",
       "      <td>0.072768</td>\n",
       "      <td>0.074554</td>\n",
       "      <td>0.072768</td>\n",
       "      <td>0.064286</td>\n",
       "      <td>0.013393</td>\n",
       "      <td>0.009375</td>\n",
       "      <td>3.0</td>\n",
       "      <td>11.0</td>\n",
       "      <td>0.149107</td>\n",
       "    </tr>\n",
       "    <tr>\n",
       "      <th>std</th>\n",
       "      <td>3246.662198</td>\n",
       "      <td>11.984069</td>\n",
       "      <td>25173.076661</td>\n",
       "      <td>0.538398</td>\n",
       "      <td>0.544538</td>\n",
       "      <td>28.962453</td>\n",
       "      <td>336.597393</td>\n",
       "      <td>39.773434</td>\n",
       "      <td>225.715373</td>\n",
       "      <td>54.628979</td>\n",
       "      <td>...</td>\n",
       "      <td>2.426645</td>\n",
       "      <td>0.259813</td>\n",
       "      <td>0.262728</td>\n",
       "      <td>0.259813</td>\n",
       "      <td>0.245316</td>\n",
       "      <td>0.114976</td>\n",
       "      <td>0.096391</td>\n",
       "      <td>0.0</td>\n",
       "      <td>0.0</td>\n",
       "      <td>0.356274</td>\n",
       "    </tr>\n",
       "    <tr>\n",
       "      <th>min</th>\n",
       "      <td>0.000000</td>\n",
       "      <td>1893.000000</td>\n",
       "      <td>1730.000000</td>\n",
       "      <td>0.000000</td>\n",
       "      <td>0.000000</td>\n",
       "      <td>0.000000</td>\n",
       "      <td>0.000000</td>\n",
       "      <td>0.000000</td>\n",
       "      <td>0.000000</td>\n",
       "      <td>0.000000</td>\n",
       "      <td>...</td>\n",
       "      <td>0.000000</td>\n",
       "      <td>0.000000</td>\n",
       "      <td>0.000000</td>\n",
       "      <td>0.000000</td>\n",
       "      <td>0.000000</td>\n",
       "      <td>0.000000</td>\n",
       "      <td>0.000000</td>\n",
       "      <td>3.0</td>\n",
       "      <td>11.0</td>\n",
       "      <td>0.000000</td>\n",
       "    </tr>\n",
       "    <tr>\n",
       "      <th>25%</th>\n",
       "      <td>2828.250000</td>\n",
       "      <td>1959.000000</td>\n",
       "      <td>35303.000000</td>\n",
       "      <td>0.000000</td>\n",
       "      <td>0.000000</td>\n",
       "      <td>24.000000</td>\n",
       "      <td>23.750000</td>\n",
       "      <td>1.000000</td>\n",
       "      <td>16.000000</td>\n",
       "      <td>3.000000</td>\n",
       "      <td>...</td>\n",
       "      <td>3.000000</td>\n",
       "      <td>0.000000</td>\n",
       "      <td>0.000000</td>\n",
       "      <td>0.000000</td>\n",
       "      <td>0.000000</td>\n",
       "      <td>0.000000</td>\n",
       "      <td>0.000000</td>\n",
       "      <td>3.0</td>\n",
       "      <td>11.0</td>\n",
       "      <td>0.000000</td>\n",
       "    </tr>\n",
       "    <tr>\n",
       "      <th>50%</th>\n",
       "      <td>5458.500000</td>\n",
       "      <td>1970.000000</td>\n",
       "      <td>51381.500000</td>\n",
       "      <td>0.000000</td>\n",
       "      <td>0.000000</td>\n",
       "      <td>49.000000</td>\n",
       "      <td>173.500000</td>\n",
       "      <td>8.000000</td>\n",
       "      <td>67.000000</td>\n",
       "      <td>12.000000</td>\n",
       "      <td>...</td>\n",
       "      <td>6.000000</td>\n",
       "      <td>0.000000</td>\n",
       "      <td>0.000000</td>\n",
       "      <td>0.000000</td>\n",
       "      <td>0.000000</td>\n",
       "      <td>0.000000</td>\n",
       "      <td>0.000000</td>\n",
       "      <td>3.0</td>\n",
       "      <td>11.0</td>\n",
       "      <td>0.000000</td>\n",
       "    </tr>\n",
       "    <tr>\n",
       "      <th>75%</th>\n",
       "      <td>8427.750000</td>\n",
       "      <td>1977.000000</td>\n",
       "      <td>68522.000000</td>\n",
       "      <td>1.000000</td>\n",
       "      <td>1.000000</td>\n",
       "      <td>74.000000</td>\n",
       "      <td>504.250000</td>\n",
       "      <td>33.000000</td>\n",
       "      <td>232.000000</td>\n",
       "      <td>50.000000</td>\n",
       "      <td>...</td>\n",
       "      <td>7.000000</td>\n",
       "      <td>0.000000</td>\n",
       "      <td>0.000000</td>\n",
       "      <td>0.000000</td>\n",
       "      <td>0.000000</td>\n",
       "      <td>0.000000</td>\n",
       "      <td>0.000000</td>\n",
       "      <td>3.0</td>\n",
       "      <td>11.0</td>\n",
       "      <td>0.000000</td>\n",
       "    </tr>\n",
       "    <tr>\n",
       "      <th>max</th>\n",
       "      <td>11191.000000</td>\n",
       "      <td>1996.000000</td>\n",
       "      <td>666666.000000</td>\n",
       "      <td>2.000000</td>\n",
       "      <td>2.000000</td>\n",
       "      <td>99.000000</td>\n",
       "      <td>1493.000000</td>\n",
       "      <td>199.000000</td>\n",
       "      <td>1725.000000</td>\n",
       "      <td>259.000000</td>\n",
       "      <td>...</td>\n",
       "      <td>20.000000</td>\n",
       "      <td>1.000000</td>\n",
       "      <td>1.000000</td>\n",
       "      <td>1.000000</td>\n",
       "      <td>1.000000</td>\n",
       "      <td>1.000000</td>\n",
       "      <td>1.000000</td>\n",
       "      <td>3.0</td>\n",
       "      <td>11.0</td>\n",
       "      <td>1.000000</td>\n",
       "    </tr>\n",
       "  </tbody>\n",
       "</table>\n",
       "<p>8 rows × 26 columns</p>\n",
       "</div>"
      ],
      "text/plain": [
       "                 ID   Year_Birth         Income      Kidhome     Teenhome  \\\n",
       "count   2240.000000  2240.000000    2216.000000  2240.000000  2240.000000   \n",
       "mean    5592.159821  1968.805804   52247.251354     0.444196     0.506250   \n",
       "std     3246.662198    11.984069   25173.076661     0.538398     0.544538   \n",
       "min        0.000000  1893.000000    1730.000000     0.000000     0.000000   \n",
       "25%     2828.250000  1959.000000   35303.000000     0.000000     0.000000   \n",
       "50%     5458.500000  1970.000000   51381.500000     0.000000     0.000000   \n",
       "75%     8427.750000  1977.000000   68522.000000     1.000000     1.000000   \n",
       "max    11191.000000  1996.000000  666666.000000     2.000000     2.000000   \n",
       "\n",
       "           Recency     MntWines    MntFruits  MntMeatProducts  \\\n",
       "count  2240.000000  2240.000000  2240.000000      2240.000000   \n",
       "mean     49.109375   303.935714    26.302232       166.950000   \n",
       "std      28.962453   336.597393    39.773434       225.715373   \n",
       "min       0.000000     0.000000     0.000000         0.000000   \n",
       "25%      24.000000    23.750000     1.000000        16.000000   \n",
       "50%      49.000000   173.500000     8.000000        67.000000   \n",
       "75%      74.000000   504.250000    33.000000       232.000000   \n",
       "max      99.000000  1493.000000   199.000000      1725.000000   \n",
       "\n",
       "       MntFishProducts  ...  NumWebVisitsMonth  AcceptedCmp3  AcceptedCmp4  \\\n",
       "count      2240.000000  ...        2240.000000   2240.000000   2240.000000   \n",
       "mean         37.525446  ...           5.316518      0.072768      0.074554   \n",
       "std          54.628979  ...           2.426645      0.259813      0.262728   \n",
       "min           0.000000  ...           0.000000      0.000000      0.000000   \n",
       "25%           3.000000  ...           3.000000      0.000000      0.000000   \n",
       "50%          12.000000  ...           6.000000      0.000000      0.000000   \n",
       "75%          50.000000  ...           7.000000      0.000000      0.000000   \n",
       "max         259.000000  ...          20.000000      1.000000      1.000000   \n",
       "\n",
       "       AcceptedCmp5  AcceptedCmp1  AcceptedCmp2     Complain  Z_CostContact  \\\n",
       "count   2240.000000   2240.000000   2240.000000  2240.000000         2240.0   \n",
       "mean       0.072768      0.064286      0.013393     0.009375            3.0   \n",
       "std        0.259813      0.245316      0.114976     0.096391            0.0   \n",
       "min        0.000000      0.000000      0.000000     0.000000            3.0   \n",
       "25%        0.000000      0.000000      0.000000     0.000000            3.0   \n",
       "50%        0.000000      0.000000      0.000000     0.000000            3.0   \n",
       "75%        0.000000      0.000000      0.000000     0.000000            3.0   \n",
       "max        1.000000      1.000000      1.000000     1.000000            3.0   \n",
       "\n",
       "       Z_Revenue     Response  \n",
       "count     2240.0  2240.000000  \n",
       "mean        11.0     0.149107  \n",
       "std          0.0     0.356274  \n",
       "min         11.0     0.000000  \n",
       "25%         11.0     0.000000  \n",
       "50%         11.0     0.000000  \n",
       "75%         11.0     0.000000  \n",
       "max         11.0     1.000000  \n",
       "\n",
       "[8 rows x 26 columns]"
      ]
     },
     "execution_count": 3,
     "metadata": {},
     "output_type": "execute_result"
    }
   ],
   "source": [
    "df.describe()"
   ]
  },
  {
   "cell_type": "markdown",
   "id": "053867d1-2127-4be8-ae1c-2501fa997cfd",
   "metadata": {},
   "source": [
    "# Data Cleansing"
   ]
  },
  {
   "cell_type": "markdown",
   "id": "c35c2cb7-0a6e-4a51-b08f-75816201688a",
   "metadata": {},
   "source": [
    "## Missing Value"
   ]
  },
  {
   "cell_type": "code",
   "execution_count": 4,
   "id": "5a31a0a0-aa14-4f0e-a6b6-8e6d5ceba140",
   "metadata": {},
   "outputs": [
    {
     "data": {
      "text/plain": [
       "ID                      0\n",
       "Year_Birth              0\n",
       "Education               0\n",
       "Marital_Status          0\n",
       "Income                 24\n",
       "Kidhome                 0\n",
       "Teenhome                0\n",
       "Dt_Customer             0\n",
       "Recency                 0\n",
       "MntWines                0\n",
       "MntFruits               0\n",
       "MntMeatProducts         0\n",
       "MntFishProducts         0\n",
       "MntSweetProducts        0\n",
       "MntGoldProds            0\n",
       "NumDealsPurchases       0\n",
       "NumWebPurchases         0\n",
       "NumCatalogPurchases     0\n",
       "NumStorePurchases       0\n",
       "NumWebVisitsMonth       0\n",
       "AcceptedCmp3            0\n",
       "AcceptedCmp4            0\n",
       "AcceptedCmp5            0\n",
       "AcceptedCmp1            0\n",
       "AcceptedCmp2            0\n",
       "Complain                0\n",
       "Z_CostContact           0\n",
       "Z_Revenue               0\n",
       "Response                0\n",
       "dtype: int64"
      ]
     },
     "execution_count": 4,
     "metadata": {},
     "output_type": "execute_result"
    }
   ],
   "source": [
    "# jumlah entry NULL di setiap kolom\n",
    "df.isna().sum()"
   ]
  },
  {
   "cell_type": "markdown",
   "id": "77793cf0-658b-4759-b3a5-9e87333dfbf2",
   "metadata": {},
   "source": [
    "**Missing value di kolom Income akan diisi dengan nilai median**"
   ]
  },
  {
   "cell_type": "code",
   "execution_count": 5,
   "id": "cdce7ac0-f494-41bd-b9ec-6ccdccc1e087",
   "metadata": {},
   "outputs": [],
   "source": [
    "df['Income'].fillna(df['Income'].median(), inplace = True)"
   ]
  },
  {
   "cell_type": "code",
   "execution_count": 6,
   "id": "bdd1ab07-9d86-4289-aed0-f354940325e0",
   "metadata": {},
   "outputs": [
    {
     "data": {
      "text/plain": [
       "ID                     0\n",
       "Year_Birth             0\n",
       "Education              0\n",
       "Marital_Status         0\n",
       "Income                 0\n",
       "Kidhome                0\n",
       "Teenhome               0\n",
       "Dt_Customer            0\n",
       "Recency                0\n",
       "MntWines               0\n",
       "MntFruits              0\n",
       "MntMeatProducts        0\n",
       "MntFishProducts        0\n",
       "MntSweetProducts       0\n",
       "MntGoldProds           0\n",
       "NumDealsPurchases      0\n",
       "NumWebPurchases        0\n",
       "NumCatalogPurchases    0\n",
       "NumStorePurchases      0\n",
       "NumWebVisitsMonth      0\n",
       "AcceptedCmp3           0\n",
       "AcceptedCmp4           0\n",
       "AcceptedCmp5           0\n",
       "AcceptedCmp1           0\n",
       "AcceptedCmp2           0\n",
       "Complain               0\n",
       "Z_CostContact          0\n",
       "Z_Revenue              0\n",
       "Response               0\n",
       "dtype: int64"
      ]
     },
     "execution_count": 6,
     "metadata": {},
     "output_type": "execute_result"
    }
   ],
   "source": [
    "#Cek jumlah missing value setelah preprocessing\n",
    "df.isna().sum()"
   ]
  },
  {
   "cell_type": "markdown",
   "id": "811a6721-7d40-466c-ad8d-2bc66ab4c1d8",
   "metadata": {},
   "source": [
    "## Duplicated Data"
   ]
  },
  {
   "cell_type": "code",
   "execution_count": 8,
   "id": "eaa41597-d9ef-41a1-a8f5-563461b61e3f",
   "metadata": {},
   "outputs": [
    {
     "data": {
      "text/plain": [
       "False"
      ]
     },
     "execution_count": 8,
     "metadata": {},
     "output_type": "execute_result"
    }
   ],
   "source": [
    "df.duplicated().any()"
   ]
  },
  {
   "cell_type": "markdown",
   "id": "51a0adb6-5a89-4e37-b262-ef8eef40ca50",
   "metadata": {},
   "source": [
    "Dalam dataset ini tidak terdapat duplicated data"
   ]
  },
  {
   "cell_type": "markdown",
   "id": "ce8a243e-c760-4d24-a934-8ead7dc28d3c",
   "metadata": {},
   "source": [
    "## Outliers"
   ]
  },
  {
   "cell_type": "markdown",
   "id": "f3e429b4-a2b0-480a-a495-c5428e46fd20",
   "metadata": {},
   "source": [
    "Dalam tahap ini akan dilakukan :\n",
    "* Penanganan outliers di kolom `Income`, dan `Year_Birth` dengan menghapus outlier menggunakan IQR\n",
    "* Penanganan outliers di kolom `NumDealsPurchases`, `NumWebPurchases` , `NumCatalogPurchases` , `NumStorePurchases` , `NumWebVisitsMonth` berdasarkan Z-score"
   ]
  },
  {
   "cell_type": "code",
   "execution_count": 9,
   "id": "7d9948c5-8e74-4490-bd5f-4db9551e95d1",
   "metadata": {
    "tags": []
   },
   "outputs": [
    {
     "data": {
      "image/png": "[encoded data removed]",
      "text/plain": [
       "<Figure size 432x288 with 1 Axes>"
      ]
     },
     "metadata": {
      "needs_background": "light"
     },
     "output_type": "display_data"
    }
   ],
   "source": [
    "sns.boxplot(x = 'Income', data = df);"
   ]
  },
  {
   "cell_type": "code",
   "execution_count": 10,
   "id": "c8b83a9a-8946-407c-9b42-b57da9e03ee9",
   "metadata": {},
   "outputs": [
    {
     "data": {
      "image/png": "[encoded data removed]",
      "text/plain": [
       "<Figure size 432x288 with 1 Axes>"
      ]
     },
     "metadata": {
      "needs_background": "light"
     },
     "output_type": "display_data"
    }
   ],
   "source": [
    "sns.boxplot(x = 'Year_Birth', data = df);"
   ]
  },
  {
   "cell_type": "markdown",
   "id": "b5e6a9a8-ce1b-41c8-a336-712fc625abb2",
   "metadata": {},
   "source": [
    "### Penanganan Outlier Berdasarkan IQR"
   ]
  },
  {
   "cell_type": "markdown",
   "id": "dca0bcf8-30cd-4664-b7ab-f2c88aa4003a",
   "metadata": {},
   "source": [
    "**Penanganan Outlier Kolom `Income`**"
   ]
  },
  {
   "cell_type": "code",
   "execution_count": 11,
   "id": "76fbcf8a-e14e-4b72-b99f-7c6dee253ff8",
   "metadata": {},
   "outputs": [],
   "source": [
    "Q1 = df['Income'].quantile(0.25)\n",
    "Q3 = df['Income'].quantile(0.75)\n",
    "IQR = Q3 - Q1\n",
    "low_limit = Q1 - (1.5 * IQR)\n",
    "high_limit = Q3 + (1.5 * IQR)\n",
    "\n",
    "filtered_entries = ((df['Income'] >= low_limit) & (df['Income'] <= high_limit))\n",
    "df = df[filtered_entries]"
   ]
  },
  {
   "cell_type": "code",
   "execution_count": 12,
   "id": "652fe216-b091-46ad-903b-65f3a5071d7c",
   "metadata": {},
   "outputs": [
    {
     "data": {
      "text/plain": [
       "(2232, 29)"
      ]
     },
     "execution_count": 12,
     "metadata": {},
     "output_type": "execute_result"
    }
   ],
   "source": [
    "df.shape"
   ]
  },
  {
   "cell_type": "markdown",
   "id": "69d9600a-782b-4299-ba17-40efd9b0efde",
   "metadata": {},
   "source": [
    "**Penanganan Outlier Kolom `Year_Birth`**"
   ]
  },
  {
   "cell_type": "code",
   "execution_count": 13,
   "id": "f73325eb-3cb8-470b-ac95-8b8f977678d5",
   "metadata": {},
   "outputs": [],
   "source": [
    "Q1 = df['Year_Birth'].quantile(0.25)\n",
    "Q3 = df['Year_Birth'].quantile(0.75)\n",
    "IQR = Q3 - Q1\n",
    "low_limit = Q1 - (1.5 * IQR)\n",
    "high_limit = Q3 + (1.5 * IQR)\n",
    "\n",
    "filtered_entries = ((df['Year_Birth'] >= low_limit) & (df['Year_Birth'] <= high_limit))\n",
    "df = df[filtered_entries]"
   ]
  },
  {
   "cell_type": "code",
   "execution_count": 14,
   "id": "a74c1d6c-f6af-40e6-9151-782623b68e85",
   "metadata": {},
   "outputs": [
    {
     "data": {
      "text/plain": [
       "(2229, 29)"
      ]
     },
     "execution_count": 14,
     "metadata": {},
     "output_type": "execute_result"
    }
   ],
   "source": [
    "df.shape"
   ]
  },
  {
   "cell_type": "markdown",
   "id": "5a355145-f4dd-44b4-888f-4cd9cbe856e0",
   "metadata": {},
   "source": [
    "**Cek boxplot dan distribusi kolom `Income` setelah dilakukan preprocessing**"
   ]
  },
  {
   "cell_type": "code",
   "execution_count": 15,
   "id": "46e83e3e-9c72-43a2-aeac-b266de426525",
   "metadata": {
    "tags": []
   },
   "outputs": [
    {
     "data": {
      "image/png": "[encoded data removed]",
      "text/plain": [
       "<Figure size 432x288 with 1 Axes>"
      ]
     },
     "metadata": {
      "needs_background": "light"
     },
     "output_type": "display_data"
    }
   ],
   "source": [
    "#Cek boxplot dan distribusi setelah dilakukan preprocessing\n",
    "sns.boxplot(x = 'Income', data = df);\n"
   ]
  },
  {
   "cell_type": "code",
   "execution_count": 16,
   "id": "f02cefc9-3c77-4d6c-aa35-168854315b0c",
   "metadata": {
    "tags": []
   },
   "outputs": [
    {
     "data": {
      "image/png": "[encoded data removed]",
      "text/plain": [
       "<Figure size 360x360 with 1 Axes>"
      ]
     },
     "metadata": {
      "needs_background": "light"
     },
     "output_type": "display_data"
    }
   ],
   "source": [
    "sns.displot(x='Income', data=df, kind='kde');"
   ]
  },
  {
   "cell_type": "markdown",
   "id": "e4754db2-6fbd-4880-a63f-83238931dda6",
   "metadata": {},
   "source": [
    "**Cek boxplot dan distribusi kolom `Year_Birth` setelah dilakukan preprocessing**"
   ]
  },
  {
   "cell_type": "code",
   "execution_count": 17,
   "id": "8c07fe9c-9e3c-4459-9ab8-a8c62bc450e1",
   "metadata": {},
   "outputs": [
    {
     "data": {
      "image/png": "[encoded data removed]",
      "text/plain": [
       "<Figure size 432x288 with 1 Axes>"
      ]
     },
     "metadata": {
      "needs_background": "light"
     },
     "output_type": "display_data"
    }
   ],
   "source": [
    "#Cek boxplot dan distribusi setelah dilakukan preprocessing\n",
    "sns.boxplot(x = 'Year_Birth', data = df);"
   ]
  },
  {
   "cell_type": "code",
   "execution_count": 18,
   "id": "e2bbde51-2b77-4cc6-b094-f01b7cc8f71a",
   "metadata": {},
   "outputs": [
    {
     "data": {
      "image/png": "[encoded data removed]",
      "text/plain": [
       "<Figure size 360x360 with 1 Axes>"
      ]
     },
     "metadata": {
      "needs_background": "light"
     },
     "output_type": "display_data"
    }
   ],
   "source": [
    "sns.displot(x='Year_Birth', data=df, kind='kde');"
   ]
  },
  {
   "cell_type": "markdown",
   "id": "7c475f95-123e-45a4-a1a2-c67e9c8f14bc",
   "metadata": {},
   "source": [
    "### Penanganan Outlier Berdasarkan Z-Score"
   ]
  },
  {
   "cell_type": "code",
   "execution_count": 19,
   "id": "b8dd9e76-f45b-48ed-8e67-68e57ff9a834",
   "metadata": {},
   "outputs": [],
   "source": [
    "from scipy import stats"
   ]
  },
  {
   "cell_type": "code",
   "execution_count": 20,
   "id": "198b19d6-94c9-4599-b276-91ae27b580fd",
   "metadata": {
    "tags": []
   },
   "outputs": [
    {
     "data": {
      "image/png": "[encoded data removed]",
      "text/plain": [
       "<Figure size 576x360 with 6 Axes>"
      ]
     },
     "metadata": {
      "needs_background": "light"
     },
     "output_type": "display_data"
    }
   ],
   "source": [
    "#Visualisasi boxplot SEBELUM dilakukan penanganan outlier\n",
    "fig, axes = plt.subplots(3, 2, \n",
    "                     figsize=(8, 5), sharex=True, sharey=True)\n",
    "\n",
    "sns.boxplot(x = 'NumDealsPurchases', data = df, ax=axes[0][0])\n",
    "sns.boxplot(x = 'NumWebPurchases', data = df, ax=axes[0][1])\n",
    "sns.boxplot(x = 'NumCatalogPurchases', data = df, ax=axes[1][0])\n",
    "sns.boxplot(x = 'NumStorePurchases', data = df, ax=axes[1][1])\n",
    "sns.boxplot(x = 'NumWebVisitsMonth', data = df, ax=axes[2][0]);"
   ]
  },
  {
   "cell_type": "code",
   "execution_count": 21,
   "id": "a22cd28e-2cbb-498f-b5ff-2121b95d8b77",
   "metadata": {},
   "outputs": [
    {
     "name": "stdout",
     "output_type": "stream",
     "text": [
      "Jumlah baris sebelum memfilter outlier: 2229\n",
      "Jumlah baris setelah memfilter outlier: 2189\n"
     ]
    }
   ],
   "source": [
    "print(f'Jumlah baris sebelum memfilter outlier: {len(df)}')\n",
    "zscore_columns = ['NumDealsPurchases', 'NumWebPurchases', 'NumCatalogPurchases', 'NumStorePurchases', 'NumWebVisitsMonth']\n",
    "filtered_entries = np.array([True] * len(df))\n",
    "\n",
    "for col in zscore_columns:\n",
    "    zscore = abs(stats.zscore(df[col])) # hitung absolute z-scorenya\n",
    "    filtered_entries = (zscore < 3) & filtered_entries # keep yang kurang dari 3 absolute z-scorenya\n",
    "    \n",
    "df = df[filtered_entries] # filter, cuma ambil yang z-scorenya dibawah 3\n",
    "\n",
    "print(f'Jumlah baris setelah memfilter outlier: {len(df)}')"
   ]
  },
  {
   "cell_type": "markdown",
   "id": "eee42a71-7e95-4e88-8c6b-0ea42412e2af",
   "metadata": {},
   "source": [
    "**Cek boxplot dan distribusi kolom `NumDealsPurchases`, `NumWebPurchases` , `NumCatalogPurchases` , `NumStorePurchases` , `NumWebVisitsMonth` setelah dilakukan preprocessing**"
   ]
  },
  {
   "cell_type": "code",
   "execution_count": 22,
   "id": "c5d1873d-0668-42d7-b259-bd14349d7b59",
   "metadata": {
    "scrolled": true,
    "tags": []
   },
   "outputs": [
    {
     "data": {
      "image/png": "[encoded data removed]",
      "text/plain": [
       "<Figure size 576x360 with 6 Axes>"
      ]
     },
     "metadata": {
      "needs_background": "light"
     },
     "output_type": "display_data"
    }
   ],
   "source": [
    "#Visualisasi boxplot SETELAH dilakukan penanganan outlier\n",
    "fig, axes = plt.subplots(3, 2, \n",
    "                     figsize=(8, 5), sharex=True, sharey=True)\n",
    "\n",
    "sns.boxplot(x = 'NumDealsPurchases', data = df, ax=axes[0][0])\n",
    "sns.boxplot(x = 'NumWebPurchases', data = df, ax=axes[0][1])\n",
    "sns.boxplot(x = 'NumCatalogPurchases', data = df, ax=axes[1][0])\n",
    "sns.boxplot(x = 'NumStorePurchases', data = df, ax=axes[1][1])\n",
    "sns.boxplot(x = 'NumWebVisitsMonth', data = df, ax=axes[2][0]);"
   ]
  },
  {
   "cell_type": "code",
   "execution_count": 23,
   "id": "6034e7d0-385d-4c2f-9c68-60a07187374f",
   "metadata": {},
   "outputs": [
    {
     "data": {
      "image/png": "[encoded data removed]",
      "text/plain": [
       "<Figure size 576x360 with 6 Axes>"
      ]
     },
     "metadata": {
      "needs_background": "light"
     },
     "output_type": "display_data"
    }
   ],
   "source": [
    "#Visualisasi distribusi SETELAH dilakukan penanganan outlier\n",
    "fig, axes = plt.subplots(3, 2, \n",
    "                     figsize=(8, 5), sharex=True, sharey=True)\n",
    "\n",
    "sns.kdeplot(x = 'NumDealsPurchases', data = df, ax=axes[0][0])\n",
    "sns.kdeplot(x = 'NumWebPurchases', data = df, ax=axes[0][1])\n",
    "sns.kdeplot(x = 'NumCatalogPurchases', data = df, ax=axes[1][0])\n",
    "sns.kdeplot(x = 'NumStorePurchases', data = df, ax=axes[1][1])\n",
    "sns.kdeplot(x = 'NumWebVisitsMonth', data = df, ax=axes[2][0]);"
   ]
  },
  {
   "cell_type": "code",
   "execution_count": 24,
   "id": "e68762b2-838d-4a0a-bf5d-2182d1d9a9f3",
   "metadata": {},
   "outputs": [
    {
     "data": {
      "text/plain": [
       "(2189, 29)"
      ]
     },
     "execution_count": 24,
     "metadata": {},
     "output_type": "execute_result"
    }
   ],
   "source": [
    "df.shape"
   ]
  },
  {
   "cell_type": "markdown",
   "id": "2e649493-209e-46ed-9e6f-1e45063791c7",
   "metadata": {},
   "source": [
    "## Feature Transformation"
   ]
  },
  {
   "cell_type": "markdown",
   "id": "1f900b7a-be30-42fc-be25-9edf604f79d7",
   "metadata": {},
   "source": [
    "Pada kolom `MntWines` , `MntFruits` , `MntMeatProducts` , `MntFishProducts` , `MntSweetProducts` , `MntGoldProds` kolomnya cenderung right-skewed. Maka dari itu akan dilakukan log transformation"
   ]
  },
  {
   "cell_type": "code",
   "execution_count": 25,
   "id": "226ebf9a-1260-4ca7-b47f-2b590304bdd3",
   "metadata": {
    "tags": []
   },
   "outputs": [
    {
     "name": "stderr",
     "output_type": "stream",
     "text": [
      "C:\\Users\\Dewi Rahmawati\\anaconda3\\lib\\site-packages\\pandas\\core\\arraylike.py:397: RuntimeWarning: divide by zero encountered in log\n",
      "  result = getattr(ufunc, method)(*inputs, **kwargs)\n",
      "C:\\Users\\Dewi Rahmawati\\anaconda3\\lib\\site-packages\\pandas\\core\\arraylike.py:397: RuntimeWarning: divide by zero encountered in log\n",
      "  result = getattr(ufunc, method)(*inputs, **kwargs)\n",
      "C:\\Users\\Dewi Rahmawati\\anaconda3\\lib\\site-packages\\pandas\\core\\arraylike.py:397: RuntimeWarning: divide by zero encountered in log\n",
      "  result = getattr(ufunc, method)(*inputs, **kwargs)\n",
      "C:\\Users\\Dewi Rahmawati\\anaconda3\\lib\\site-packages\\pandas\\core\\arraylike.py:397: RuntimeWarning: divide by zero encountered in log\n",
      "  result = getattr(ufunc, method)(*inputs, **kwargs)\n",
      "C:\\Users\\Dewi Rahmawati\\anaconda3\\lib\\site-packages\\pandas\\core\\arraylike.py:397: RuntimeWarning: divide by zero encountered in log\n",
      "  result = getattr(ufunc, method)(*inputs, **kwargs)\n",
      "C:\\Users\\Dewi Rahmawati\\anaconda3\\lib\\site-packages\\pandas\\core\\arraylike.py:397: RuntimeWarning: divide by zero encountered in log\n",
      "  result = getattr(ufunc, method)(*inputs, **kwargs)\n"
     ]
    }
   ],
   "source": [
    "# Tranformasi kolom\n",
    "df['log_MntWines'] = np.log(df['MntWines'])\n",
    "df['log_MntFruits'] = np.log(df['MntFruits'])\n",
    "df['log_MntMeatProducts'] = np.log(df['MntMeatProducts'])\n",
    "df['log_MntFishProducts'] = np.log(df['MntFishProducts'])\n",
    "df['log_MntSweetProducts'] = np.log(df['MntSweetProducts'])\n",
    "df['log_MntGoldProds'] = np.log(df['MntGoldProds'])"
   ]
  },
  {
   "cell_type": "code",
   "execution_count": 26,
   "id": "c04e1c20-9fcb-42d9-a011-f78c95e27747",
   "metadata": {},
   "outputs": [
    {
     "data": {
      "text/html": [
       "<div>\n",
       "<style scoped>\n",
       "    .dataframe tbody tr th:only-of-type {\n",
       "        vertical-align: middle;\n",
       "    }\n",
       "\n",
       "    .dataframe tbody tr th {\n",
       "        vertical-align: top;\n",
       "    }\n",
       "\n",
       "    .dataframe thead th {\n",
       "        text-align: right;\n",
       "    }\n",
       "</style>\n",
       "<table border=\"1\" class=\"dataframe\">\n",
       "  <thead>\n",
       "    <tr style=\"text-align: right;\">\n",
       "      <th></th>\n",
       "      <th>ID</th>\n",
       "      <th>Year_Birth</th>\n",
       "      <th>Education</th>\n",
       "      <th>Marital_Status</th>\n",
       "      <th>Income</th>\n",
       "      <th>Kidhome</th>\n",
       "      <th>Teenhome</th>\n",
       "      <th>Dt_Customer</th>\n",
       "      <th>Recency</th>\n",
       "      <th>NumDealsPurchases</th>\n",
       "      <th>...</th>\n",
       "      <th>Complain</th>\n",
       "      <th>Z_CostContact</th>\n",
       "      <th>Z_Revenue</th>\n",
       "      <th>Response</th>\n",
       "      <th>log_MntWines</th>\n",
       "      <th>log_MntFruits</th>\n",
       "      <th>log_MntMeatProducts</th>\n",
       "      <th>log_MntFishProducts</th>\n",
       "      <th>log_MntSweetProducts</th>\n",
       "      <th>log_MntGoldProds</th>\n",
       "    </tr>\n",
       "  </thead>\n",
       "  <tbody>\n",
       "    <tr>\n",
       "      <th>0</th>\n",
       "      <td>5524</td>\n",
       "      <td>1957</td>\n",
       "      <td>Graduation</td>\n",
       "      <td>Single</td>\n",
       "      <td>58138.0</td>\n",
       "      <td>0</td>\n",
       "      <td>0</td>\n",
       "      <td>2012-09-04</td>\n",
       "      <td>58</td>\n",
       "      <td>3</td>\n",
       "      <td>...</td>\n",
       "      <td>0</td>\n",
       "      <td>3</td>\n",
       "      <td>11</td>\n",
       "      <td>1</td>\n",
       "      <td>6.453625</td>\n",
       "      <td>4.477337</td>\n",
       "      <td>6.302619</td>\n",
       "      <td>5.147494</td>\n",
       "      <td>4.477337</td>\n",
       "      <td>4.477337</td>\n",
       "    </tr>\n",
       "    <tr>\n",
       "      <th>1</th>\n",
       "      <td>2174</td>\n",
       "      <td>1954</td>\n",
       "      <td>Graduation</td>\n",
       "      <td>Single</td>\n",
       "      <td>46344.0</td>\n",
       "      <td>1</td>\n",
       "      <td>1</td>\n",
       "      <td>2014-03-08</td>\n",
       "      <td>38</td>\n",
       "      <td>2</td>\n",
       "      <td>...</td>\n",
       "      <td>0</td>\n",
       "      <td>3</td>\n",
       "      <td>11</td>\n",
       "      <td>0</td>\n",
       "      <td>2.397895</td>\n",
       "      <td>0.000000</td>\n",
       "      <td>1.791759</td>\n",
       "      <td>0.693147</td>\n",
       "      <td>0.000000</td>\n",
       "      <td>1.791759</td>\n",
       "    </tr>\n",
       "    <tr>\n",
       "      <th>2</th>\n",
       "      <td>4141</td>\n",
       "      <td>1965</td>\n",
       "      <td>Graduation</td>\n",
       "      <td>Together</td>\n",
       "      <td>71613.0</td>\n",
       "      <td>0</td>\n",
       "      <td>0</td>\n",
       "      <td>2013-08-21</td>\n",
       "      <td>26</td>\n",
       "      <td>1</td>\n",
       "      <td>...</td>\n",
       "      <td>0</td>\n",
       "      <td>3</td>\n",
       "      <td>11</td>\n",
       "      <td>0</td>\n",
       "      <td>6.054439</td>\n",
       "      <td>3.891820</td>\n",
       "      <td>4.844187</td>\n",
       "      <td>4.709530</td>\n",
       "      <td>3.044522</td>\n",
       "      <td>3.737670</td>\n",
       "    </tr>\n",
       "    <tr>\n",
       "      <th>3</th>\n",
       "      <td>6182</td>\n",
       "      <td>1984</td>\n",
       "      <td>Graduation</td>\n",
       "      <td>Together</td>\n",
       "      <td>26646.0</td>\n",
       "      <td>1</td>\n",
       "      <td>0</td>\n",
       "      <td>2014-02-10</td>\n",
       "      <td>26</td>\n",
       "      <td>2</td>\n",
       "      <td>...</td>\n",
       "      <td>0</td>\n",
       "      <td>3</td>\n",
       "      <td>11</td>\n",
       "      <td>0</td>\n",
       "      <td>2.397895</td>\n",
       "      <td>1.386294</td>\n",
       "      <td>2.995732</td>\n",
       "      <td>2.302585</td>\n",
       "      <td>1.098612</td>\n",
       "      <td>1.609438</td>\n",
       "    </tr>\n",
       "    <tr>\n",
       "      <th>4</th>\n",
       "      <td>5324</td>\n",
       "      <td>1981</td>\n",
       "      <td>PhD</td>\n",
       "      <td>Married</td>\n",
       "      <td>58293.0</td>\n",
       "      <td>1</td>\n",
       "      <td>0</td>\n",
       "      <td>2014-01-19</td>\n",
       "      <td>94</td>\n",
       "      <td>5</td>\n",
       "      <td>...</td>\n",
       "      <td>0</td>\n",
       "      <td>3</td>\n",
       "      <td>11</td>\n",
       "      <td>0</td>\n",
       "      <td>5.153292</td>\n",
       "      <td>3.761200</td>\n",
       "      <td>4.770685</td>\n",
       "      <td>3.828641</td>\n",
       "      <td>3.295837</td>\n",
       "      <td>2.708050</td>\n",
       "    </tr>\n",
       "  </tbody>\n",
       "</table>\n",
       "<p>5 rows × 29 columns</p>\n",
       "</div>"
      ],
      "text/plain": [
       "     ID  Year_Birth   Education Marital_Status   Income  Kidhome  Teenhome  \\\n",
       "0  5524        1957  Graduation         Single  58138.0        0         0   \n",
       "1  2174        1954  Graduation         Single  46344.0        1         1   \n",
       "2  4141        1965  Graduation       Together  71613.0        0         0   \n",
       "3  6182        1984  Graduation       Together  26646.0        1         0   \n",
       "4  5324        1981         PhD        Married  58293.0        1         0   \n",
       "\n",
       "  Dt_Customer  Recency  NumDealsPurchases  ...  Complain  Z_CostContact  \\\n",
       "0  2012-09-04       58                  3  ...         0              3   \n",
       "1  2014-03-08       38                  2  ...         0              3   \n",
       "2  2013-08-21       26                  1  ...         0              3   \n",
       "3  2014-02-10       26                  2  ...         0              3   \n",
       "4  2014-01-19       94                  5  ...         0              3   \n",
       "\n",
       "   Z_Revenue  Response  log_MntWines  log_MntFruits  log_MntMeatProducts  \\\n",
       "0         11         1      6.453625       4.477337             6.302619   \n",
       "1         11         0      2.397895       0.000000             1.791759   \n",
       "2         11         0      6.054439       3.891820             4.844187   \n",
       "3         11         0      2.397895       1.386294             2.995732   \n",
       "4         11         0      5.153292       3.761200             4.770685   \n",
       "\n",
       "   log_MntFishProducts  log_MntSweetProducts  log_MntGoldProds  \n",
       "0             5.147494              4.477337          4.477337  \n",
       "1             0.693147              0.000000          1.791759  \n",
       "2             4.709530              3.044522          3.737670  \n",
       "3             2.302585              1.098612          1.609438  \n",
       "4             3.828641              3.295837          2.708050  \n",
       "\n",
       "[5 rows x 29 columns]"
      ]
     },
     "execution_count": 26,
     "metadata": {},
     "output_type": "execute_result"
    }
   ],
   "source": [
    "#drop kolom nilai asli\n",
    "df = df.drop(columns=['MntWines' , 'MntFruits' , 'MntMeatProducts' , 'MntFishProducts' , 'MntSweetProducts' , 'MntGoldProds'])\n",
    "df.head()"
   ]
  },
  {
   "cell_type": "code",
   "execution_count": 27,
   "id": "346399ac-ddac-4ab8-b391-9917563550c5",
   "metadata": {},
   "outputs": [
    {
     "data": {
      "image/png": "[encoded data removed]",
      "text/plain": [
       "<Figure size 576x360 with 6 Axes>"
      ]
     },
     "metadata": {
      "needs_background": "light"
     },
     "output_type": "display_data"
    }
   ],
   "source": [
    "#Visualisasi distribusi setelah dilakukan log transformation\n",
    "fig, axes = plt.subplots(3, 2, \n",
    "                     figsize=(8, 5), sharex=True, sharey=True)\n",
    "\n",
    "sns.kdeplot(x = 'log_MntWines', data = df, ax=axes[0][0])\n",
    "sns.kdeplot(x = 'log_MntFruits', data = df, ax=axes[0][1])\n",
    "sns.kdeplot(x = 'log_MntMeatProducts', data = df, ax=axes[1][0])\n",
    "sns.kdeplot(x = 'log_MntFishProducts', data = df, ax=axes[1][1])\n",
    "sns.kdeplot(x = 'log_MntSweetProducts', data = df, ax=axes[2][0])\n",
    "sns.kdeplot(x = 'log_MntGoldProds', data = df, ax=axes[2][1]);\n"
   ]
  },
  {
   "cell_type": "markdown",
   "id": "4f3cffff-aac2-43e2-be27-f0c6d08707b8",
   "metadata": {},
   "source": [
    "## Feature Encoding"
   ]
  },
  {
   "cell_type": "markdown",
   "id": "da53ae72-edd4-483c-8bd3-a1aea6789486",
   "metadata": {},
   "source": [
    "* Pada kolom Education bertipe data ordinal. Akan dilakukan label encoding\n",
    "* Pada kolom Marital_Status akan dilakukan one hot encoding\n"
   ]
  },
  {
   "cell_type": "code",
   "execution_count": 28,
   "id": "5d53bbb8-59e6-4a9d-a979-172037311ec8",
   "metadata": {},
   "outputs": [
    {
     "name": "stdout",
     "output_type": "stream",
     "text": [
      "Value count kolom Education:\n",
      "Graduation    1107\n",
      "PhD            468\n",
      "Master         361\n",
      "2n Cycle       199\n",
      "Basic           54\n",
      "Name: Education, dtype: int64\n",
      "\n",
      "Value count kolom Marital_Status:\n",
      "Married     845\n",
      "Together    567\n",
      "Single      467\n",
      "Divorced    227\n",
      "Widow        76\n",
      "Alone         3\n",
      "Absurd        2\n",
      "YOLO          2\n",
      "Name: Marital_Status, dtype: int64\n",
      "\n"
     ]
    }
   ],
   "source": [
    "for col in ['Education']:\n",
    "    print(f'''Value count kolom {col}:''')\n",
    "    print(df[col].value_counts())\n",
    "    print()\n",
    "    \n",
    "for col in ['Marital_Status']:\n",
    "    print(f'''Value count kolom {col}:''')\n",
    "    print(df[col].value_counts())\n",
    "    print()"
   ]
  },
  {
   "cell_type": "code",
   "execution_count": 29,
   "id": "dd1aa5c3-9a87-44d6-8af1-cddc9083327c",
   "metadata": {},
   "outputs": [],
   "source": [
    "#Label Encoding Kolom Education\n",
    "mapping_education = {\n",
    "    'Basic' : 0,\n",
    "    'Graduation' : 1,\n",
    "    '2n Cycle' : 2,\n",
    "    'Master' : 2,\n",
    "    'PhD' : 3\n",
    "}\n",
    "\n",
    "df['Education'] = df['Education'].map(mapping_education)"
   ]
  },
  {
   "cell_type": "code",
   "execution_count": 30,
   "id": "802adbed-b9b2-435d-a636-ee47bda1fb46",
   "metadata": {},
   "outputs": [],
   "source": [
    "# One hot encoding kolom Marital_Status\n",
    "for cat in ['Marital_Status']:\n",
    "    onehots = pd.get_dummies(df[cat], prefix=cat)\n",
    "    df = df.join(onehots)"
   ]
  },
  {
   "cell_type": "code",
   "execution_count": 32,
   "id": "1d239820-9700-49e0-95d1-19f7ff17b91c",
   "metadata": {},
   "outputs": [
    {
     "data": {
      "text/html": [
       "<div>\n",
       "<style scoped>\n",
       "    .dataframe tbody tr th:only-of-type {\n",
       "        vertical-align: middle;\n",
       "    }\n",
       "\n",
       "    .dataframe tbody tr th {\n",
       "        vertical-align: top;\n",
       "    }\n",
       "\n",
       "    .dataframe thead th {\n",
       "        text-align: right;\n",
       "    }\n",
       "</style>\n",
       "<table border=\"1\" class=\"dataframe\">\n",
       "  <thead>\n",
       "    <tr style=\"text-align: right;\">\n",
       "      <th></th>\n",
       "      <th>ID</th>\n",
       "      <th>Year_Birth</th>\n",
       "      <th>Education</th>\n",
       "      <th>Income</th>\n",
       "      <th>Kidhome</th>\n",
       "      <th>Teenhome</th>\n",
       "      <th>Dt_Customer</th>\n",
       "      <th>Recency</th>\n",
       "      <th>NumDealsPurchases</th>\n",
       "      <th>NumWebPurchases</th>\n",
       "      <th>...</th>\n",
       "      <th>log_MntSweetProducts</th>\n",
       "      <th>log_MntGoldProds</th>\n",
       "      <th>Marital_Status_Absurd</th>\n",
       "      <th>Marital_Status_Alone</th>\n",
       "      <th>Marital_Status_Divorced</th>\n",
       "      <th>Marital_Status_Married</th>\n",
       "      <th>Marital_Status_Single</th>\n",
       "      <th>Marital_Status_Together</th>\n",
       "      <th>Marital_Status_Widow</th>\n",
       "      <th>Marital_Status_YOLO</th>\n",
       "    </tr>\n",
       "  </thead>\n",
       "  <tbody>\n",
       "    <tr>\n",
       "      <th>0</th>\n",
       "      <td>5524</td>\n",
       "      <td>1957</td>\n",
       "      <td>1</td>\n",
       "      <td>58138.0</td>\n",
       "      <td>0</td>\n",
       "      <td>0</td>\n",
       "      <td>2012-09-04</td>\n",
       "      <td>58</td>\n",
       "      <td>3</td>\n",
       "      <td>8</td>\n",
       "      <td>...</td>\n",
       "      <td>4.477337</td>\n",
       "      <td>4.477337</td>\n",
       "      <td>0</td>\n",
       "      <td>0</td>\n",
       "      <td>0</td>\n",
       "      <td>0</td>\n",
       "      <td>1</td>\n",
       "      <td>0</td>\n",
       "      <td>0</td>\n",
       "      <td>0</td>\n",
       "    </tr>\n",
       "    <tr>\n",
       "      <th>1</th>\n",
       "      <td>2174</td>\n",
       "      <td>1954</td>\n",
       "      <td>1</td>\n",
       "      <td>46344.0</td>\n",
       "      <td>1</td>\n",
       "      <td>1</td>\n",
       "      <td>2014-03-08</td>\n",
       "      <td>38</td>\n",
       "      <td>2</td>\n",
       "      <td>1</td>\n",
       "      <td>...</td>\n",
       "      <td>0.000000</td>\n",
       "      <td>1.791759</td>\n",
       "      <td>0</td>\n",
       "      <td>0</td>\n",
       "      <td>0</td>\n",
       "      <td>0</td>\n",
       "      <td>1</td>\n",
       "      <td>0</td>\n",
       "      <td>0</td>\n",
       "      <td>0</td>\n",
       "    </tr>\n",
       "    <tr>\n",
       "      <th>2</th>\n",
       "      <td>4141</td>\n",
       "      <td>1965</td>\n",
       "      <td>1</td>\n",
       "      <td>71613.0</td>\n",
       "      <td>0</td>\n",
       "      <td>0</td>\n",
       "      <td>2013-08-21</td>\n",
       "      <td>26</td>\n",
       "      <td>1</td>\n",
       "      <td>8</td>\n",
       "      <td>...</td>\n",
       "      <td>3.044522</td>\n",
       "      <td>3.737670</td>\n",
       "      <td>0</td>\n",
       "      <td>0</td>\n",
       "      <td>0</td>\n",
       "      <td>0</td>\n",
       "      <td>0</td>\n",
       "      <td>1</td>\n",
       "      <td>0</td>\n",
       "      <td>0</td>\n",
       "    </tr>\n",
       "    <tr>\n",
       "      <th>3</th>\n",
       "      <td>6182</td>\n",
       "      <td>1984</td>\n",
       "      <td>1</td>\n",
       "      <td>26646.0</td>\n",
       "      <td>1</td>\n",
       "      <td>0</td>\n",
       "      <td>2014-02-10</td>\n",
       "      <td>26</td>\n",
       "      <td>2</td>\n",
       "      <td>2</td>\n",
       "      <td>...</td>\n",
       "      <td>1.098612</td>\n",
       "      <td>1.609438</td>\n",
       "      <td>0</td>\n",
       "      <td>0</td>\n",
       "      <td>0</td>\n",
       "      <td>0</td>\n",
       "      <td>0</td>\n",
       "      <td>1</td>\n",
       "      <td>0</td>\n",
       "      <td>0</td>\n",
       "    </tr>\n",
       "    <tr>\n",
       "      <th>4</th>\n",
       "      <td>5324</td>\n",
       "      <td>1981</td>\n",
       "      <td>3</td>\n",
       "      <td>58293.0</td>\n",
       "      <td>1</td>\n",
       "      <td>0</td>\n",
       "      <td>2014-01-19</td>\n",
       "      <td>94</td>\n",
       "      <td>5</td>\n",
       "      <td>5</td>\n",
       "      <td>...</td>\n",
       "      <td>3.295837</td>\n",
       "      <td>2.708050</td>\n",
       "      <td>0</td>\n",
       "      <td>0</td>\n",
       "      <td>0</td>\n",
       "      <td>1</td>\n",
       "      <td>0</td>\n",
       "      <td>0</td>\n",
       "      <td>0</td>\n",
       "      <td>0</td>\n",
       "    </tr>\n",
       "  </tbody>\n",
       "</table>\n",
       "<p>5 rows × 36 columns</p>\n",
       "</div>"
      ],
      "text/plain": [
       "     ID  Year_Birth  Education   Income  Kidhome  Teenhome Dt_Customer  \\\n",
       "0  5524        1957          1  58138.0        0         0  2012-09-04   \n",
       "1  2174        1954          1  46344.0        1         1  2014-03-08   \n",
       "2  4141        1965          1  71613.0        0         0  2013-08-21   \n",
       "3  6182        1984          1  26646.0        1         0  2014-02-10   \n",
       "4  5324        1981          3  58293.0        1         0  2014-01-19   \n",
       "\n",
       "   Recency  NumDealsPurchases  NumWebPurchases  ...  log_MntSweetProducts  \\\n",
       "0       58                  3                8  ...              4.477337   \n",
       "1       38                  2                1  ...              0.000000   \n",
       "2       26                  1                8  ...              3.044522   \n",
       "3       26                  2                2  ...              1.098612   \n",
       "4       94                  5                5  ...              3.295837   \n",
       "\n",
       "   log_MntGoldProds  Marital_Status_Absurd  Marital_Status_Alone  \\\n",
       "0          4.477337                      0                     0   \n",
       "1          1.791759                      0                     0   \n",
       "2          3.737670                      0                     0   \n",
       "3          1.609438                      0                     0   \n",
       "4          2.708050                      0                     0   \n",
       "\n",
       "   Marital_Status_Divorced  Marital_Status_Married  Marital_Status_Single  \\\n",
       "0                        0                       0                      1   \n",
       "1                        0                       0                      1   \n",
       "2                        0                       0                      0   \n",
       "3                        0                       0                      0   \n",
       "4                        0                       1                      0   \n",
       "\n",
       "   Marital_Status_Together  Marital_Status_Widow  Marital_Status_YOLO  \n",
       "0                        0                     0                    0  \n",
       "1                        0                     0                    0  \n",
       "2                        1                     0                    0  \n",
       "3                        1                     0                    0  \n",
       "4                        0                     0                    0  \n",
       "\n",
       "[5 rows x 36 columns]"
      ]
     },
     "execution_count": 32,
     "metadata": {},
     "output_type": "execute_result"
    }
   ],
   "source": [
    "#Menghapus kolom yang outdated\n",
    "df = df.drop(columns=['Marital_Status'])\n",
    "df.head()"
   ]
  },
  {
   "cell_type": "markdown",
   "id": "8883071b-993d-471d-a110-241dbcb1b8c1",
   "metadata": {},
   "source": [
    "## Class Imbalance"
   ]
  },
  {
   "cell_type": "code",
   "execution_count": 33,
   "id": "76f5864b-cd04-4e1d-92b3-295b4c4e17b0",
   "metadata": {},
   "outputs": [
    {
     "data": {
      "text/plain": [
       "<AxesSubplot:xlabel='Response', ylabel='count'>"
      ]
     },
     "execution_count": 33,
     "metadata": {},
     "output_type": "execute_result"
    },
    {
     "data": {
      "image/png": "[encoded data removed]",
      "text/plain": [
       "<Figure size 432x288 with 1 Axes>"
      ]
     },
     "metadata": {
      "needs_background": "light"
     },
     "output_type": "display_data"
    }
   ],
   "source": [
    "sns.countplot(x = 'Response', data = df)"
   ]
  },
  {
   "cell_type": "code",
   "execution_count": 34,
   "id": "7a2c1be5-1f7b-423f-ae76-533cb57202a9",
   "metadata": {},
   "outputs": [
    {
     "name": "stdout",
     "output_type": "stream",
     "text": [
      "0    1864\n",
      "1     325\n",
      "Name: Response, dtype: int64\n",
      "Rasio 0.8515303791685701 0.14846962083142987\n"
     ]
    }
   ],
   "source": [
    "print(df['Response'].value_counts())\n",
    "print('Rasio', (len(df)-df['Response'].sum())/ len(df), (df['Response'].sum()/ len(df)))"
   ]
  },
  {
   "cell_type": "code",
   "execution_count": 35,
   "id": "b93c9725-c3f0-46fb-8039-67ea01700c50",
   "metadata": {},
   "outputs": [
    {
     "name": "stdout",
     "output_type": "stream",
     "text": [
      "(2189, 34)\n",
      "(2189,)\n"
     ]
    }
   ],
   "source": [
    "# pemisahan features vs target\n",
    "X = df[[col for col in df.columns if (str(df[col].dtype) != 'object') and col not in ['Response']]]\n",
    "y = df['Response'].values\n",
    "print(X.shape)\n",
    "print(y.shape)"
   ]
  },
  {
   "cell_type": "code",
   "execution_count": 41,
   "id": "17b9cb7d-95ba-4a89-ba65-b96ba01a702c",
   "metadata": {},
   "outputs": [
    {
     "name": "stderr",
     "output_type": "stream",
     "text": [
      "C:\\Users\\Dewi Rahmawati\\anaconda3\\lib\\site-packages\\imblearn\\utils\\_validation.py:586: FutureWarning: Pass sampling_strategy=0.5 as keyword args. From version 0.9 passing these as positional arguments will result in an error\n",
      "  warnings.warn(\n",
      "C:\\Users\\Dewi Rahmawati\\anaconda3\\lib\\site-packages\\imblearn\\utils\\_validation.py:586: FutureWarning: Pass sampling_strategy=0.5 as keyword args. From version 0.9 passing these as positional arguments will result in an error\n",
      "  warnings.warn(\n"
     ]
    }
   ],
   "source": [
    "from imblearn import under_sampling, over_sampling\n",
    "X_under, y_under = under_sampling.RandomUnderSampler(0.5).fit_resample(X, y)\n",
    "X_over, y_over = over_sampling.RandomOverSampler(0.5).fit_resample(X, y)"
   ]
  },
  {
   "cell_type": "code",
   "execution_count": 42,
   "id": "28855099-8f16-4c6e-9769-4654f508b533",
   "metadata": {},
   "outputs": [
    {
     "name": "stdout",
     "output_type": "stream",
     "text": [
      "Original\n",
      "0    1864\n",
      "1     325\n",
      "dtype: int64\n",
      "\n",
      "\n",
      "UNDERSAMPLING\n",
      "0    650\n",
      "1    325\n",
      "dtype: int64\n",
      "\n",
      "\n",
      "OVERSAMPLING\n",
      "0    1864\n",
      "1     932\n",
      "dtype: int64\n"
     ]
    }
   ],
   "source": [
    "print('Original')\n",
    "print(pd.Series(y).value_counts())\n",
    "print('\\n')\n",
    "print('UNDERSAMPLING')\n",
    "print(pd.Series(y_under).value_counts())\n",
    "print('\\n')\n",
    "print('OVERSAMPLING')\n",
    "print(pd.Series(y_over).value_counts())"
   ]
  },
  {
   "cell_type": "markdown",
   "id": "e486b1a3-0a72-419e-9afe-80389820cd63",
   "metadata": {},
   "source": [
    "# Feature Engineering"
   ]
  },
  {
   "cell_type": "markdown",
   "id": "2dedc590-3389-4b5e-8e59-36f150062caa",
   "metadata": {},
   "source": [
    "## Feature Selection"
   ]
  },
  {
   "cell_type": "markdown",
   "id": "da465d75-42ab-465f-880e-e8f9f133624e",
   "metadata": {},
   "source": [
    "Dalam dataset ini kami akan menghapus kolom-kolom yang memiliki banyak nilai unik yaitu ID, dan kolom Z_CostContact, dan Z_Revenue juga akan dihapus"
   ]
  },
  {
   "cell_type": "code",
   "execution_count": 34,
   "id": "1d7f0f9c-ae97-4e78-833a-e5bd0be48072",
   "metadata": {
    "tags": []
   },
   "outputs": [
    {
     "data": {
      "text/html": [
       "<div>\n",
       "<style scoped>\n",
       "    .dataframe tbody tr th:only-of-type {\n",
       "        vertical-align: middle;\n",
       "    }\n",
       "\n",
       "    .dataframe tbody tr th {\n",
       "        vertical-align: top;\n",
       "    }\n",
       "\n",
       "    .dataframe thead th {\n",
       "        text-align: right;\n",
       "    }\n",
       "</style>\n",
       "<table border=\"1\" class=\"dataframe\">\n",
       "  <thead>\n",
       "    <tr style=\"text-align: right;\">\n",
       "      <th></th>\n",
       "      <th>Year_Birth</th>\n",
       "      <th>Education</th>\n",
       "      <th>Income</th>\n",
       "      <th>Kidhome</th>\n",
       "      <th>Teenhome</th>\n",
       "      <th>Dt_Customer</th>\n",
       "      <th>Recency</th>\n",
       "      <th>NumDealsPurchases</th>\n",
       "      <th>NumWebPurchases</th>\n",
       "      <th>NumCatalogPurchases</th>\n",
       "      <th>...</th>\n",
       "      <th>log_MntFruits</th>\n",
       "      <th>log_MntMeatProducts</th>\n",
       "      <th>log_MntFishProducts</th>\n",
       "      <th>log_MntSweetProducts</th>\n",
       "      <th>log_MntGoldProds</th>\n",
       "      <th>Marital_Status_Divorced</th>\n",
       "      <th>Marital_Status_Married</th>\n",
       "      <th>Marital_Status_Single</th>\n",
       "      <th>Marital_Status_Together</th>\n",
       "      <th>Marital_Status_Widow</th>\n",
       "    </tr>\n",
       "  </thead>\n",
       "  <tbody>\n",
       "    <tr>\n",
       "      <th>0</th>\n",
       "      <td>1957</td>\n",
       "      <td>1</td>\n",
       "      <td>58138.0</td>\n",
       "      <td>0</td>\n",
       "      <td>0</td>\n",
       "      <td>2012-09-04</td>\n",
       "      <td>58</td>\n",
       "      <td>3</td>\n",
       "      <td>8</td>\n",
       "      <td>10</td>\n",
       "      <td>...</td>\n",
       "      <td>4.477337</td>\n",
       "      <td>6.302619</td>\n",
       "      <td>5.147494</td>\n",
       "      <td>4.477337</td>\n",
       "      <td>4.477337</td>\n",
       "      <td>0</td>\n",
       "      <td>0</td>\n",
       "      <td>1</td>\n",
       "      <td>0</td>\n",
       "      <td>0</td>\n",
       "    </tr>\n",
       "    <tr>\n",
       "      <th>1</th>\n",
       "      <td>1954</td>\n",
       "      <td>1</td>\n",
       "      <td>46344.0</td>\n",
       "      <td>1</td>\n",
       "      <td>1</td>\n",
       "      <td>2014-03-08</td>\n",
       "      <td>38</td>\n",
       "      <td>2</td>\n",
       "      <td>1</td>\n",
       "      <td>1</td>\n",
       "      <td>...</td>\n",
       "      <td>0.000000</td>\n",
       "      <td>1.791759</td>\n",
       "      <td>0.693147</td>\n",
       "      <td>0.000000</td>\n",
       "      <td>1.791759</td>\n",
       "      <td>0</td>\n",
       "      <td>0</td>\n",
       "      <td>1</td>\n",
       "      <td>0</td>\n",
       "      <td>0</td>\n",
       "    </tr>\n",
       "    <tr>\n",
       "      <th>2</th>\n",
       "      <td>1965</td>\n",
       "      <td>1</td>\n",
       "      <td>71613.0</td>\n",
       "      <td>0</td>\n",
       "      <td>0</td>\n",
       "      <td>2013-08-21</td>\n",
       "      <td>26</td>\n",
       "      <td>1</td>\n",
       "      <td>8</td>\n",
       "      <td>2</td>\n",
       "      <td>...</td>\n",
       "      <td>3.891820</td>\n",
       "      <td>4.844187</td>\n",
       "      <td>4.709530</td>\n",
       "      <td>3.044522</td>\n",
       "      <td>3.737670</td>\n",
       "      <td>0</td>\n",
       "      <td>0</td>\n",
       "      <td>0</td>\n",
       "      <td>1</td>\n",
       "      <td>0</td>\n",
       "    </tr>\n",
       "    <tr>\n",
       "      <th>3</th>\n",
       "      <td>1984</td>\n",
       "      <td>1</td>\n",
       "      <td>26646.0</td>\n",
       "      <td>1</td>\n",
       "      <td>0</td>\n",
       "      <td>2014-02-10</td>\n",
       "      <td>26</td>\n",
       "      <td>2</td>\n",
       "      <td>2</td>\n",
       "      <td>0</td>\n",
       "      <td>...</td>\n",
       "      <td>1.386294</td>\n",
       "      <td>2.995732</td>\n",
       "      <td>2.302585</td>\n",
       "      <td>1.098612</td>\n",
       "      <td>1.609438</td>\n",
       "      <td>0</td>\n",
       "      <td>0</td>\n",
       "      <td>0</td>\n",
       "      <td>1</td>\n",
       "      <td>0</td>\n",
       "    </tr>\n",
       "    <tr>\n",
       "      <th>4</th>\n",
       "      <td>1981</td>\n",
       "      <td>3</td>\n",
       "      <td>58293.0</td>\n",
       "      <td>1</td>\n",
       "      <td>0</td>\n",
       "      <td>2014-01-19</td>\n",
       "      <td>94</td>\n",
       "      <td>5</td>\n",
       "      <td>5</td>\n",
       "      <td>3</td>\n",
       "      <td>...</td>\n",
       "      <td>3.761200</td>\n",
       "      <td>4.770685</td>\n",
       "      <td>3.828641</td>\n",
       "      <td>3.295837</td>\n",
       "      <td>2.708050</td>\n",
       "      <td>0</td>\n",
       "      <td>1</td>\n",
       "      <td>0</td>\n",
       "      <td>0</td>\n",
       "      <td>0</td>\n",
       "    </tr>\n",
       "  </tbody>\n",
       "</table>\n",
       "<p>5 rows × 30 columns</p>\n",
       "</div>"
      ],
      "text/plain": [
       "   Year_Birth  Education   Income  Kidhome  Teenhome Dt_Customer  Recency  \\\n",
       "0        1957          1  58138.0        0         0  2012-09-04       58   \n",
       "1        1954          1  46344.0        1         1  2014-03-08       38   \n",
       "2        1965          1  71613.0        0         0  2013-08-21       26   \n",
       "3        1984          1  26646.0        1         0  2014-02-10       26   \n",
       "4        1981          3  58293.0        1         0  2014-01-19       94   \n",
       "\n",
       "   NumDealsPurchases  NumWebPurchases  NumCatalogPurchases  ...  \\\n",
       "0                  3                8                   10  ...   \n",
       "1                  2                1                    1  ...   \n",
       "2                  1                8                    2  ...   \n",
       "3                  2                2                    0  ...   \n",
       "4                  5                5                    3  ...   \n",
       "\n",
       "   log_MntFruits  log_MntMeatProducts  log_MntFishProducts  \\\n",
       "0       4.477337             6.302619             5.147494   \n",
       "1       0.000000             1.791759             0.693147   \n",
       "2       3.891820             4.844187             4.709530   \n",
       "3       1.386294             2.995732             2.302585   \n",
       "4       3.761200             4.770685             3.828641   \n",
       "\n",
       "   log_MntSweetProducts  log_MntGoldProds  Marital_Status_Divorced  \\\n",
       "0              4.477337          4.477337                        0   \n",
       "1              0.000000          1.791759                        0   \n",
       "2              3.044522          3.737670                        0   \n",
       "3              1.098612          1.609438                        0   \n",
       "4              3.295837          2.708050                        0   \n",
       "\n",
       "   Marital_Status_Married  Marital_Status_Single  Marital_Status_Together  \\\n",
       "0                       0                      1                        0   \n",
       "1                       0                      1                        0   \n",
       "2                       0                      0                        1   \n",
       "3                       0                      0                        1   \n",
       "4                       1                      0                        0   \n",
       "\n",
       "   Marital_Status_Widow  \n",
       "0                     0  \n",
       "1                     0  \n",
       "2                     0  \n",
       "3                     0  \n",
       "4                     0  \n",
       "\n",
       "[5 rows x 30 columns]"
      ]
     },
     "execution_count": 34,
     "metadata": {},
     "output_type": "execute_result"
    }
   ],
   "source": [
    "df = df.drop(columns=['ID','Z_CostContact','Z_Revenue'])\n",
    "df.head()"
   ]
  },
  {
   "cell_type": "markdown",
   "id": "28705eb6-0693-4962-8594-ad1a6fc23bec",
   "metadata": {},
   "source": [
    "## Feature Extraction"
   ]
  },
  {
   "cell_type": "markdown",
   "id": "84df54a4-f84b-4306-85b4-5c026a840cd5",
   "metadata": {},
   "source": [
    "* Total Spent\n",
    "* Total Number of Purchase\n",
    "* Kolom Usia"
   ]
  },
  {
   "cell_type": "markdown",
   "id": "9f24c2c4-419e-4008-af83-82c5b9192446",
   "metadata": {},
   "source": [
    "**Menambah kolom total_amount dan total_purchases**"
   ]
  },
  {
   "cell_type": "code",
   "execution_count": 36,
   "id": "80bb9c54-208d-4d0b-b5c8-639c1bf908e5",
   "metadata": {},
   "outputs": [
    {
     "data": {
      "text/html": [
       "<div>\n",
       "<style scoped>\n",
       "    .dataframe tbody tr th:only-of-type {\n",
       "        vertical-align: middle;\n",
       "    }\n",
       "\n",
       "    .dataframe tbody tr th {\n",
       "        vertical-align: top;\n",
       "    }\n",
       "\n",
       "    .dataframe thead th {\n",
       "        text-align: right;\n",
       "    }\n",
       "</style>\n",
       "<table border=\"1\" class=\"dataframe\">\n",
       "  <thead>\n",
       "    <tr style=\"text-align: right;\">\n",
       "      <th></th>\n",
       "      <th>ID</th>\n",
       "      <th>Year_Birth</th>\n",
       "      <th>Education</th>\n",
       "      <th>Income</th>\n",
       "      <th>Kidhome</th>\n",
       "      <th>Teenhome</th>\n",
       "      <th>Dt_Customer</th>\n",
       "      <th>Recency</th>\n",
       "      <th>NumDealsPurchases</th>\n",
       "      <th>NumWebPurchases</th>\n",
       "      <th>...</th>\n",
       "      <th>Marital_Status_Absurd</th>\n",
       "      <th>Marital_Status_Alone</th>\n",
       "      <th>Marital_Status_Divorced</th>\n",
       "      <th>Marital_Status_Married</th>\n",
       "      <th>Marital_Status_Single</th>\n",
       "      <th>Marital_Status_Together</th>\n",
       "      <th>Marital_Status_Widow</th>\n",
       "      <th>Marital_Status_YOLO</th>\n",
       "      <th>total_amount</th>\n",
       "      <th>total_purchases</th>\n",
       "    </tr>\n",
       "  </thead>\n",
       "  <tbody>\n",
       "    <tr>\n",
       "      <th>0</th>\n",
       "      <td>5524</td>\n",
       "      <td>1957</td>\n",
       "      <td>1</td>\n",
       "      <td>58138.0</td>\n",
       "      <td>0</td>\n",
       "      <td>0</td>\n",
       "      <td>2012-09-04</td>\n",
       "      <td>58</td>\n",
       "      <td>3</td>\n",
       "      <td>8</td>\n",
       "      <td>...</td>\n",
       "      <td>0</td>\n",
       "      <td>0</td>\n",
       "      <td>0</td>\n",
       "      <td>0</td>\n",
       "      <td>1</td>\n",
       "      <td>0</td>\n",
       "      <td>0</td>\n",
       "      <td>0</td>\n",
       "      <td>1617</td>\n",
       "      <td>25</td>\n",
       "    </tr>\n",
       "    <tr>\n",
       "      <th>1</th>\n",
       "      <td>2174</td>\n",
       "      <td>1954</td>\n",
       "      <td>1</td>\n",
       "      <td>46344.0</td>\n",
       "      <td>1</td>\n",
       "      <td>1</td>\n",
       "      <td>2014-03-08</td>\n",
       "      <td>38</td>\n",
       "      <td>2</td>\n",
       "      <td>1</td>\n",
       "      <td>...</td>\n",
       "      <td>0</td>\n",
       "      <td>0</td>\n",
       "      <td>0</td>\n",
       "      <td>0</td>\n",
       "      <td>1</td>\n",
       "      <td>0</td>\n",
       "      <td>0</td>\n",
       "      <td>0</td>\n",
       "      <td>27</td>\n",
       "      <td>6</td>\n",
       "    </tr>\n",
       "    <tr>\n",
       "      <th>2</th>\n",
       "      <td>4141</td>\n",
       "      <td>1965</td>\n",
       "      <td>1</td>\n",
       "      <td>71613.0</td>\n",
       "      <td>0</td>\n",
       "      <td>0</td>\n",
       "      <td>2013-08-21</td>\n",
       "      <td>26</td>\n",
       "      <td>1</td>\n",
       "      <td>8</td>\n",
       "      <td>...</td>\n",
       "      <td>0</td>\n",
       "      <td>0</td>\n",
       "      <td>0</td>\n",
       "      <td>0</td>\n",
       "      <td>0</td>\n",
       "      <td>1</td>\n",
       "      <td>0</td>\n",
       "      <td>0</td>\n",
       "      <td>776</td>\n",
       "      <td>21</td>\n",
       "    </tr>\n",
       "    <tr>\n",
       "      <th>3</th>\n",
       "      <td>6182</td>\n",
       "      <td>1984</td>\n",
       "      <td>1</td>\n",
       "      <td>26646.0</td>\n",
       "      <td>1</td>\n",
       "      <td>0</td>\n",
       "      <td>2014-02-10</td>\n",
       "      <td>26</td>\n",
       "      <td>2</td>\n",
       "      <td>2</td>\n",
       "      <td>...</td>\n",
       "      <td>0</td>\n",
       "      <td>0</td>\n",
       "      <td>0</td>\n",
       "      <td>0</td>\n",
       "      <td>0</td>\n",
       "      <td>1</td>\n",
       "      <td>0</td>\n",
       "      <td>0</td>\n",
       "      <td>53</td>\n",
       "      <td>8</td>\n",
       "    </tr>\n",
       "    <tr>\n",
       "      <th>4</th>\n",
       "      <td>5324</td>\n",
       "      <td>1981</td>\n",
       "      <td>3</td>\n",
       "      <td>58293.0</td>\n",
       "      <td>1</td>\n",
       "      <td>0</td>\n",
       "      <td>2014-01-19</td>\n",
       "      <td>94</td>\n",
       "      <td>5</td>\n",
       "      <td>5</td>\n",
       "      <td>...</td>\n",
       "      <td>0</td>\n",
       "      <td>0</td>\n",
       "      <td>0</td>\n",
       "      <td>1</td>\n",
       "      <td>0</td>\n",
       "      <td>0</td>\n",
       "      <td>0</td>\n",
       "      <td>0</td>\n",
       "      <td>422</td>\n",
       "      <td>19</td>\n",
       "    </tr>\n",
       "  </tbody>\n",
       "</table>\n",
       "<p>5 rows × 38 columns</p>\n",
       "</div>"
      ],
      "text/plain": [
       "     ID  Year_Birth  Education   Income  Kidhome  Teenhome Dt_Customer  \\\n",
       "0  5524        1957          1  58138.0        0         0  2012-09-04   \n",
       "1  2174        1954          1  46344.0        1         1  2014-03-08   \n",
       "2  4141        1965          1  71613.0        0         0  2013-08-21   \n",
       "3  6182        1984          1  26646.0        1         0  2014-02-10   \n",
       "4  5324        1981          3  58293.0        1         0  2014-01-19   \n",
       "\n",
       "   Recency  NumDealsPurchases  NumWebPurchases  ...  Marital_Status_Absurd  \\\n",
       "0       58                  3                8  ...                      0   \n",
       "1       38                  2                1  ...                      0   \n",
       "2       26                  1                8  ...                      0   \n",
       "3       26                  2                2  ...                      0   \n",
       "4       94                  5                5  ...                      0   \n",
       "\n",
       "   Marital_Status_Alone  Marital_Status_Divorced  Marital_Status_Married  \\\n",
       "0                     0                        0                       0   \n",
       "1                     0                        0                       0   \n",
       "2                     0                        0                       0   \n",
       "3                     0                        0                       0   \n",
       "4                     0                        0                       1   \n",
       "\n",
       "   Marital_Status_Single  Marital_Status_Together  Marital_Status_Widow  \\\n",
       "0                      1                        0                     0   \n",
       "1                      1                        0                     0   \n",
       "2                      0                        1                     0   \n",
       "3                      0                        1                     0   \n",
       "4                      0                        0                     0   \n",
       "\n",
       "   Marital_Status_YOLO  total_amount  total_purchases  \n",
       "0                    0          1617               25  \n",
       "1                    0            27                6  \n",
       "2                    0           776               21  \n",
       "3                    0            53                8  \n",
       "4                    0           422               19  \n",
       "\n",
       "[5 rows x 38 columns]"
      ]
     },
     "execution_count": 36,
     "metadata": {},
     "output_type": "execute_result"
    }
   ],
   "source": [
    "df_purchases = pd.read_csv('marketing_campaign.csv', sep = ';')\n",
    "#Menambahkan kolom total jumlah belanja  (total amount spent)\n",
    "df['total_amount'] = df_purchases['MntWines'] + df_purchases['MntFruits'] + df_purchases['MntMeatProducts'] + df_purchases['MntFishProducts'] + df_purchases['MntSweetProducts'] + df_purchases['MntGoldProds']\n",
    "\n",
    "#Menambahkan kolom total berapa kali pembelian (number of purchases)\n",
    "df_purchases = pd.read_csv('marketing_campaign.csv', sep = ';')\n",
    "df['total_purchases'] = df_purchases['NumDealsPurchases']+ df_purchases['NumWebPurchases'] + df_purchases['NumCatalogPurchases'] + df_purchases['NumStorePurchases']\n",
    "\n",
    "#Menampilkan dataframe\n",
    "df.head()"
   ]
  },
  {
   "cell_type": "markdown",
   "id": "7f07a291-68a9-4115-a637-8d4067977705",
   "metadata": {},
   "source": [
    "**Menambahkan kolom Age**"
   ]
  },
  {
   "cell_type": "code",
   "execution_count": 37,
   "id": "40b6f184-c46c-43e8-9829-e0aac7db3605",
   "metadata": {},
   "outputs": [
    {
     "data": {
      "text/html": [
       "<div>\n",
       "<style scoped>\n",
       "    .dataframe tbody tr th:only-of-type {\n",
       "        vertical-align: middle;\n",
       "    }\n",
       "\n",
       "    .dataframe tbody tr th {\n",
       "        vertical-align: top;\n",
       "    }\n",
       "\n",
       "    .dataframe thead th {\n",
       "        text-align: right;\n",
       "    }\n",
       "</style>\n",
       "<table border=\"1\" class=\"dataframe\">\n",
       "  <thead>\n",
       "    <tr style=\"text-align: right;\">\n",
       "      <th></th>\n",
       "      <th>ID</th>\n",
       "      <th>Year_Birth</th>\n",
       "      <th>Education</th>\n",
       "      <th>Income</th>\n",
       "      <th>Kidhome</th>\n",
       "      <th>Teenhome</th>\n",
       "      <th>Dt_Customer</th>\n",
       "      <th>Recency</th>\n",
       "      <th>NumDealsPurchases</th>\n",
       "      <th>NumWebPurchases</th>\n",
       "      <th>...</th>\n",
       "      <th>Marital_Status_Alone</th>\n",
       "      <th>Marital_Status_Divorced</th>\n",
       "      <th>Marital_Status_Married</th>\n",
       "      <th>Marital_Status_Single</th>\n",
       "      <th>Marital_Status_Together</th>\n",
       "      <th>Marital_Status_Widow</th>\n",
       "      <th>Marital_Status_YOLO</th>\n",
       "      <th>total_amount</th>\n",
       "      <th>total_purchases</th>\n",
       "      <th>Age</th>\n",
       "    </tr>\n",
       "  </thead>\n",
       "  <tbody>\n",
       "    <tr>\n",
       "      <th>0</th>\n",
       "      <td>5524</td>\n",
       "      <td>1957</td>\n",
       "      <td>1</td>\n",
       "      <td>58138.0</td>\n",
       "      <td>0</td>\n",
       "      <td>0</td>\n",
       "      <td>2012-09-04</td>\n",
       "      <td>58</td>\n",
       "      <td>3</td>\n",
       "      <td>8</td>\n",
       "      <td>...</td>\n",
       "      <td>0</td>\n",
       "      <td>0</td>\n",
       "      <td>0</td>\n",
       "      <td>1</td>\n",
       "      <td>0</td>\n",
       "      <td>0</td>\n",
       "      <td>0</td>\n",
       "      <td>1617</td>\n",
       "      <td>25</td>\n",
       "      <td>65</td>\n",
       "    </tr>\n",
       "    <tr>\n",
       "      <th>1</th>\n",
       "      <td>2174</td>\n",
       "      <td>1954</td>\n",
       "      <td>1</td>\n",
       "      <td>46344.0</td>\n",
       "      <td>1</td>\n",
       "      <td>1</td>\n",
       "      <td>2014-03-08</td>\n",
       "      <td>38</td>\n",
       "      <td>2</td>\n",
       "      <td>1</td>\n",
       "      <td>...</td>\n",
       "      <td>0</td>\n",
       "      <td>0</td>\n",
       "      <td>0</td>\n",
       "      <td>1</td>\n",
       "      <td>0</td>\n",
       "      <td>0</td>\n",
       "      <td>0</td>\n",
       "      <td>27</td>\n",
       "      <td>6</td>\n",
       "      <td>68</td>\n",
       "    </tr>\n",
       "    <tr>\n",
       "      <th>2</th>\n",
       "      <td>4141</td>\n",
       "      <td>1965</td>\n",
       "      <td>1</td>\n",
       "      <td>71613.0</td>\n",
       "      <td>0</td>\n",
       "      <td>0</td>\n",
       "      <td>2013-08-21</td>\n",
       "      <td>26</td>\n",
       "      <td>1</td>\n",
       "      <td>8</td>\n",
       "      <td>...</td>\n",
       "      <td>0</td>\n",
       "      <td>0</td>\n",
       "      <td>0</td>\n",
       "      <td>0</td>\n",
       "      <td>1</td>\n",
       "      <td>0</td>\n",
       "      <td>0</td>\n",
       "      <td>776</td>\n",
       "      <td>21</td>\n",
       "      <td>57</td>\n",
       "    </tr>\n",
       "    <tr>\n",
       "      <th>3</th>\n",
       "      <td>6182</td>\n",
       "      <td>1984</td>\n",
       "      <td>1</td>\n",
       "      <td>26646.0</td>\n",
       "      <td>1</td>\n",
       "      <td>0</td>\n",
       "      <td>2014-02-10</td>\n",
       "      <td>26</td>\n",
       "      <td>2</td>\n",
       "      <td>2</td>\n",
       "      <td>...</td>\n",
       "      <td>0</td>\n",
       "      <td>0</td>\n",
       "      <td>0</td>\n",
       "      <td>0</td>\n",
       "      <td>1</td>\n",
       "      <td>0</td>\n",
       "      <td>0</td>\n",
       "      <td>53</td>\n",
       "      <td>8</td>\n",
       "      <td>38</td>\n",
       "    </tr>\n",
       "    <tr>\n",
       "      <th>4</th>\n",
       "      <td>5324</td>\n",
       "      <td>1981</td>\n",
       "      <td>3</td>\n",
       "      <td>58293.0</td>\n",
       "      <td>1</td>\n",
       "      <td>0</td>\n",
       "      <td>2014-01-19</td>\n",
       "      <td>94</td>\n",
       "      <td>5</td>\n",
       "      <td>5</td>\n",
       "      <td>...</td>\n",
       "      <td>0</td>\n",
       "      <td>0</td>\n",
       "      <td>1</td>\n",
       "      <td>0</td>\n",
       "      <td>0</td>\n",
       "      <td>0</td>\n",
       "      <td>0</td>\n",
       "      <td>422</td>\n",
       "      <td>19</td>\n",
       "      <td>41</td>\n",
       "    </tr>\n",
       "  </tbody>\n",
       "</table>\n",
       "<p>5 rows × 39 columns</p>\n",
       "</div>"
      ],
      "text/plain": [
       "     ID  Year_Birth  Education   Income  Kidhome  Teenhome Dt_Customer  \\\n",
       "0  5524        1957          1  58138.0        0         0  2012-09-04   \n",
       "1  2174        1954          1  46344.0        1         1  2014-03-08   \n",
       "2  4141        1965          1  71613.0        0         0  2013-08-21   \n",
       "3  6182        1984          1  26646.0        1         0  2014-02-10   \n",
       "4  5324        1981          3  58293.0        1         0  2014-01-19   \n",
       "\n",
       "   Recency  NumDealsPurchases  NumWebPurchases  ...  Marital_Status_Alone  \\\n",
       "0       58                  3                8  ...                     0   \n",
       "1       38                  2                1  ...                     0   \n",
       "2       26                  1                8  ...                     0   \n",
       "3       26                  2                2  ...                     0   \n",
       "4       94                  5                5  ...                     0   \n",
       "\n",
       "   Marital_Status_Divorced  Marital_Status_Married  Marital_Status_Single  \\\n",
       "0                        0                       0                      1   \n",
       "1                        0                       0                      1   \n",
       "2                        0                       0                      0   \n",
       "3                        0                       0                      0   \n",
       "4                        0                       1                      0   \n",
       "\n",
       "   Marital_Status_Together  Marital_Status_Widow  Marital_Status_YOLO  \\\n",
       "0                        0                     0                    0   \n",
       "1                        0                     0                    0   \n",
       "2                        1                     0                    0   \n",
       "3                        1                     0                    0   \n",
       "4                        0                     0                    0   \n",
       "\n",
       "   total_amount  total_purchases  Age  \n",
       "0          1617               25   65  \n",
       "1            27                6   68  \n",
       "2           776               21   57  \n",
       "3            53                8   38  \n",
       "4           422               19   41  \n",
       "\n",
       "[5 rows x 39 columns]"
      ]
     },
     "execution_count": 37,
     "metadata": {},
     "output_type": "execute_result"
    }
   ],
   "source": [
    "df['Age'] = 2022 - df['Year_Birth']\n",
    "df.head()"
   ]
  }
 ],
 "metadata": {
  "kernelspec": {
   "display_name": "Python 3 (ipykernel)",
   "language": "python",
   "name": "python3"
  },
  "language_info": {
   "codemirror_mode": {
    "name": "ipython",
    "version": 3
   },
   "file_extension": ".py",
   "mimetype": "text/x-python",
   "name": "python",
   "nbconvert_exporter": "python",
   "pygments_lexer": "ipython3",
   "version": "3.9.7"
  }
 },
 "nbformat": 4,
 "nbformat_minor": 5
}
